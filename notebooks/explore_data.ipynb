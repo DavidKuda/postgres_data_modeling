{
 "cells": [
  {
   "cell_type": "code",
   "execution_count": null,
   "id": "duplicate-helena",
   "metadata": {},
   "outputs": [],
   "source": [
    "import pandas as pd\n",
    "import psycopg2\n",
    "\n",
    "from sql_queries import users_properties, songplays_properties, artists_properties, songs_properties, time_properties"
   ]
  },
  {
   "cell_type": "code",
   "execution_count": null,
   "id": "increasing-lambda",
   "metadata": {},
   "outputs": [],
   "source": [
    "conn = psycopg2.connect(\"host=127.0.0.1 dbname=sparkifydb user=student password=student\")\n",
    "cur = conn.cursor()"
   ]
  },
  {
   "cell_type": "code",
   "execution_count": null,
   "id": "proprietary-recommendation",
   "metadata": {},
   "outputs": [],
   "source": [
    "def get_table(table_properties):\n",
    "    df = pd.read_sql(table_properties.queries['select'], conn)\n",
    "    return df"
   ]
  },
  {
   "cell_type": "markdown",
   "id": "structured-history",
   "metadata": {},
   "source": [
    "## Users Table"
   ]
  },
  {
   "cell_type": "code",
   "execution_count": null,
   "id": "isolated-firewall",
   "metadata": {},
   "outputs": [],
   "source": [
    "get_table(users_properties).head(5)"
   ]
  },
  {
   "cell_type": "markdown",
   "id": "environmental-treasure",
   "metadata": {},
   "source": [
    "## Artists Table"
   ]
  },
  {
   "cell_type": "code",
   "execution_count": null,
   "id": "established-provider",
   "metadata": {},
   "outputs": [],
   "source": [
    "get_table(artists_properties).head(5)"
   ]
  },
  {
   "cell_type": "markdown",
   "id": "obvious-tucson",
   "metadata": {},
   "source": [
    "## Songs Table"
   ]
  },
  {
   "cell_type": "code",
   "execution_count": null,
   "id": "introductory-sunglasses",
   "metadata": {},
   "outputs": [],
   "source": [
    "get_table(songs_properties).head(5)"
   ]
  },
  {
   "cell_type": "markdown",
   "id": "amber-latex",
   "metadata": {},
   "source": [
    "## Time Table"
   ]
  },
  {
   "cell_type": "code",
   "execution_count": null,
   "id": "noted-palestinian",
   "metadata": {},
   "outputs": [],
   "source": [
    "get_table(time_properties).head(5)"
   ]
  },
  {
   "cell_type": "markdown",
   "id": "unavailable-chosen",
   "metadata": {},
   "source": [
    "## Songplays Table"
   ]
  },
  {
   "cell_type": "code",
   "execution_count": null,
   "id": "photographic-network",
   "metadata": {},
   "outputs": [],
   "source": [
    "get_table(songplays_properties).head(5)"
   ]
  },
  {
   "cell_type": "code",
   "execution_count": null,
   "id": "generic-comparative",
   "metadata": {},
   "outputs": [],
   "source": [
    "conn.close()"
   ]
  }
 ],
 "metadata": {
  "kernelspec": {
   "display_name": "Python 3",
   "language": "python",
   "name": "python3"
  },
  "language_info": {
   "codemirror_mode": {
    "name": "ipython",
    "version": 3
   },
   "file_extension": ".py",
   "mimetype": "text/x-python",
   "name": "python",
   "nbconvert_exporter": "python",
   "pygments_lexer": "ipython3",
   "version": "3.9.2"
  }
 },
 "nbformat": 4,
 "nbformat_minor": 5
}
